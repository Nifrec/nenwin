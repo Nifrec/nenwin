{
 "cells": [
  {
   "cell_type": "code",
   "execution_count": 2,
   "metadata": {},
   "outputs": [],
   "source": [
    "import pandas as pd\n",
    "from nenwin.constants import BANKNOTE_DATA_FILE"
   ]
  },
  {
   "cell_type": "code",
   "execution_count": 3,
   "metadata": {},
   "outputs": [
    {
     "output_type": "execute_result",
     "data": {
      "text/plain": [
       "      variance  skewness  curtosis  entropy  forged\n",
       "0      3.62160   8.66610   -2.8073 -0.44699       0\n",
       "1      4.54590   8.16740   -2.4586 -1.46210       0\n",
       "2      3.86600  -2.63830    1.9242  0.10645       0\n",
       "3      3.45660   9.52280   -4.0112 -3.59440       0\n",
       "4      0.32924  -4.45520    4.5718 -0.98880       0\n",
       "...        ...       ...       ...      ...     ...\n",
       "1367   0.40614   1.34920   -1.4501 -0.55949       1\n",
       "1368  -1.38870  -4.87730    6.4774  0.34179       1\n",
       "1369  -3.75030 -13.45860   17.5932 -2.77710       1\n",
       "1370  -3.56370  -8.38270   12.3930 -1.28230       1\n",
       "1371  -2.54190  -0.65804    2.6842  1.19520       1\n",
       "\n",
       "[1372 rows x 5 columns]"
      ],
      "text/html": "<div>\n<style scoped>\n    .dataframe tbody tr th:only-of-type {\n        vertical-align: middle;\n    }\n\n    .dataframe tbody tr th {\n        vertical-align: top;\n    }\n\n    .dataframe thead th {\n        text-align: right;\n    }\n</style>\n<table border=\"1\" class=\"dataframe\">\n  <thead>\n    <tr style=\"text-align: right;\">\n      <th></th>\n      <th>variance</th>\n      <th>skewness</th>\n      <th>curtosis</th>\n      <th>entropy</th>\n      <th>forged</th>\n    </tr>\n  </thead>\n  <tbody>\n    <tr>\n      <th>0</th>\n      <td>3.62160</td>\n      <td>8.66610</td>\n      <td>-2.8073</td>\n      <td>-0.44699</td>\n      <td>0</td>\n    </tr>\n    <tr>\n      <th>1</th>\n      <td>4.54590</td>\n      <td>8.16740</td>\n      <td>-2.4586</td>\n      <td>-1.46210</td>\n      <td>0</td>\n    </tr>\n    <tr>\n      <th>2</th>\n      <td>3.86600</td>\n      <td>-2.63830</td>\n      <td>1.9242</td>\n      <td>0.10645</td>\n      <td>0</td>\n    </tr>\n    <tr>\n      <th>3</th>\n      <td>3.45660</td>\n      <td>9.52280</td>\n      <td>-4.0112</td>\n      <td>-3.59440</td>\n      <td>0</td>\n    </tr>\n    <tr>\n      <th>4</th>\n      <td>0.32924</td>\n      <td>-4.45520</td>\n      <td>4.5718</td>\n      <td>-0.98880</td>\n      <td>0</td>\n    </tr>\n    <tr>\n      <th>...</th>\n      <td>...</td>\n      <td>...</td>\n      <td>...</td>\n      <td>...</td>\n      <td>...</td>\n    </tr>\n    <tr>\n      <th>1367</th>\n      <td>0.40614</td>\n      <td>1.34920</td>\n      <td>-1.4501</td>\n      <td>-0.55949</td>\n      <td>1</td>\n    </tr>\n    <tr>\n      <th>1368</th>\n      <td>-1.38870</td>\n      <td>-4.87730</td>\n      <td>6.4774</td>\n      <td>0.34179</td>\n      <td>1</td>\n    </tr>\n    <tr>\n      <th>1369</th>\n      <td>-3.75030</td>\n      <td>-13.45860</td>\n      <td>17.5932</td>\n      <td>-2.77710</td>\n      <td>1</td>\n    </tr>\n    <tr>\n      <th>1370</th>\n      <td>-3.56370</td>\n      <td>-8.38270</td>\n      <td>12.3930</td>\n      <td>-1.28230</td>\n      <td>1</td>\n    </tr>\n    <tr>\n      <th>1371</th>\n      <td>-2.54190</td>\n      <td>-0.65804</td>\n      <td>2.6842</td>\n      <td>1.19520</td>\n      <td>1</td>\n    </tr>\n  </tbody>\n</table>\n<p>1372 rows × 5 columns</p>\n</div>"
     },
     "metadata": {},
     "execution_count": 3
    }
   ],
   "source": [
    "df = pd.read_csv(BANKNOTE_DATA_FILE)\n",
    "df"
   ]
  },
  {
   "cell_type": "code",
   "execution_count": 4,
   "metadata": {},
   "outputs": [
    {
     "output_type": "stream",
     "name": "stdout",
     "text": [
      "1372 Num real: 762 Num forgeries: 610\n"
     ]
    }
   ],
   "source": [
    "print(len(df), f\"Num real: {len(df[df['forged'] == 0])}\", f\"Num forgeries: {len(df[df['forged'] == 1])}\" )"
   ]
  },
  {
   "cell_type": "code",
   "execution_count": 5,
   "metadata": {},
   "outputs": [
    {
     "output_type": "execute_result",
     "data": {
      "text/plain": [
       "variance     6.8248\n",
       "skewness    12.9516\n",
       "curtosis    17.9274\n",
       "entropy      2.4495\n",
       "forged       1.0000\n",
       "dtype: float64"
      ]
     },
     "metadata": {},
     "execution_count": 5
    }
   ],
   "source": [
    "df.max()"
   ]
  },
  {
   "cell_type": "code",
   "execution_count": 6,
   "metadata": {},
   "outputs": [
    {
     "output_type": "execute_result",
     "data": {
      "text/plain": [
       "variance    -7.0421\n",
       "skewness   -13.7731\n",
       "curtosis    -5.2861\n",
       "entropy     -8.5482\n",
       "forged       0.0000\n",
       "dtype: float64"
      ]
     },
     "metadata": {},
     "execution_count": 6
    }
   ],
   "source": [
    "df.min()"
   ]
  },
  {
   "cell_type": "code",
   "execution_count": 7,
   "metadata": {},
   "outputs": [
    {
     "output_type": "execute_result",
     "data": {
      "text/plain": [
       "variance    2.842763\n",
       "skewness    5.869047\n",
       "curtosis    4.310030\n",
       "entropy     2.101013\n",
       "forged      0.497103\n",
       "dtype: float64"
      ]
     },
     "metadata": {},
     "execution_count": 7
    }
   ],
   "source": [
    "df.std()"
   ]
  },
  {
   "cell_type": "code",
   "execution_count": 8,
   "metadata": {},
   "outputs": [
    {
     "output_type": "execute_result",
     "data": {
      "text/plain": [
       "variance    0.433735\n",
       "skewness    1.922353\n",
       "curtosis    1.397627\n",
       "entropy    -1.191657\n",
       "forged      0.444606\n",
       "dtype: float64"
      ]
     },
     "metadata": {},
     "execution_count": 8
    }
   ],
   "source": [
    "df.mean()"
   ]
  },
  {
   "cell_type": "markdown",
   "metadata": {},
   "source": [
    "## Shuffling the dataset"
   ]
  },
  {
   "cell_type": "code",
   "execution_count": 9,
   "metadata": {},
   "outputs": [
    {
     "output_type": "execute_result",
     "data": {
      "text/plain": [
       "      variance  skewness  curtosis  entropy  forged\n",
       "0     -2.18020   3.37910  -1.22560 -2.66210       1\n",
       "1      3.75700  -5.42360   3.82550 -1.25260       0\n",
       "2     -0.88728   2.80800  -3.14320 -1.20350       1\n",
       "3     -1.66410  -1.36780   1.99700  0.52283       1\n",
       "4     -1.84480   1.25400   0.27218 -1.07280       1\n",
       "...        ...       ...       ...      ...     ...\n",
       "1367   0.37980   0.70980   0.75720 -0.44440       0\n",
       "1368   3.37560  -4.09510   4.36700  1.06980       0\n",
       "1369  -1.99830  -6.60720   4.82540 -0.41984       1\n",
       "1370  -0.20620   9.22070  -3.70440 -6.81030       0\n",
       "1371   0.52855   0.96427   4.02430 -1.04830       0\n",
       "\n",
       "[1372 rows x 5 columns]"
      ],
      "text/html": "<div>\n<style scoped>\n    .dataframe tbody tr th:only-of-type {\n        vertical-align: middle;\n    }\n\n    .dataframe tbody tr th {\n        vertical-align: top;\n    }\n\n    .dataframe thead th {\n        text-align: right;\n    }\n</style>\n<table border=\"1\" class=\"dataframe\">\n  <thead>\n    <tr style=\"text-align: right;\">\n      <th></th>\n      <th>variance</th>\n      <th>skewness</th>\n      <th>curtosis</th>\n      <th>entropy</th>\n      <th>forged</th>\n    </tr>\n  </thead>\n  <tbody>\n    <tr>\n      <th>0</th>\n      <td>-2.18020</td>\n      <td>3.37910</td>\n      <td>-1.22560</td>\n      <td>-2.66210</td>\n      <td>1</td>\n    </tr>\n    <tr>\n      <th>1</th>\n      <td>3.75700</td>\n      <td>-5.42360</td>\n      <td>3.82550</td>\n      <td>-1.25260</td>\n      <td>0</td>\n    </tr>\n    <tr>\n      <th>2</th>\n      <td>-0.88728</td>\n      <td>2.80800</td>\n      <td>-3.14320</td>\n      <td>-1.20350</td>\n      <td>1</td>\n    </tr>\n    <tr>\n      <th>3</th>\n      <td>-1.66410</td>\n      <td>-1.36780</td>\n      <td>1.99700</td>\n      <td>0.52283</td>\n      <td>1</td>\n    </tr>\n    <tr>\n      <th>4</th>\n      <td>-1.84480</td>\n      <td>1.25400</td>\n      <td>0.27218</td>\n      <td>-1.07280</td>\n      <td>1</td>\n    </tr>\n    <tr>\n      <th>...</th>\n      <td>...</td>\n      <td>...</td>\n      <td>...</td>\n      <td>...</td>\n      <td>...</td>\n    </tr>\n    <tr>\n      <th>1367</th>\n      <td>0.37980</td>\n      <td>0.70980</td>\n      <td>0.75720</td>\n      <td>-0.44440</td>\n      <td>0</td>\n    </tr>\n    <tr>\n      <th>1368</th>\n      <td>3.37560</td>\n      <td>-4.09510</td>\n      <td>4.36700</td>\n      <td>1.06980</td>\n      <td>0</td>\n    </tr>\n    <tr>\n      <th>1369</th>\n      <td>-1.99830</td>\n      <td>-6.60720</td>\n      <td>4.82540</td>\n      <td>-0.41984</td>\n      <td>1</td>\n    </tr>\n    <tr>\n      <th>1370</th>\n      <td>-0.20620</td>\n      <td>9.22070</td>\n      <td>-3.70440</td>\n      <td>-6.81030</td>\n      <td>0</td>\n    </tr>\n    <tr>\n      <th>1371</th>\n      <td>0.52855</td>\n      <td>0.96427</td>\n      <td>4.02430</td>\n      <td>-1.04830</td>\n      <td>0</td>\n    </tr>\n  </tbody>\n</table>\n<p>1372 rows × 5 columns</p>\n</div>"
     },
     "metadata": {},
     "execution_count": 9
    }
   ],
   "source": [
    "df.sample(frac=1).reset_index(drop=True)"
   ]
  },
  {
   "cell_type": "code",
   "execution_count": 14,
   "metadata": {},
   "outputs": [
    {
     "output_type": "execute_result",
     "data": {
      "text/plain": [
       "((array([[ 3.6216 ,  8.6661 , -2.8073 , -0.44699]]), 0),\n",
       " (array([[ 4.5459,  8.1674, -2.4586, -1.4621]]), 0),\n",
       " (array([[ 3.866  , -2.6383 ,  1.9242 ,  0.10645]]), 0),\n",
       " (array([[ 3.4566,  9.5228, -4.0112, -3.5944]]), 0),\n",
       " (array([[ 0.32924, -4.4552 ,  4.5718 , -0.9888 ]]), 0),\n",
       " (array([[ 4.3684,  9.6718, -3.9606, -3.1625]]), 0),\n",
       " (array([[3.5912 , 3.0129 , 0.72888, 0.56421]]), 0),\n",
       " (array([[ 2.0922 , -6.81   ,  8.4636 , -0.60216]]), 0),\n",
       " (array([[ 3.2032 ,  5.7588 , -0.75345, -0.61251]]), 0),\n",
       " (array([[ 1.5356 ,  9.1772 , -2.2718 , -0.73535]]), 0))"
      ]
     },
     "metadata": {},
     "execution_count": 14
    }
   ],
   "source": [
    "a = tuple((x[1][:-1].to_numpy().reshape((1, -1)), int(x[1][-1])) for x in df.iterrows())\n",
    "a[:10]"
   ]
  },
  {
   "cell_type": "code",
   "execution_count": 20,
   "metadata": {},
   "outputs": [
    {
     "output_type": "execute_result",
     "data": {
      "text/plain": [
       "(1, 4)"
      ]
     },
     "metadata": {},
     "execution_count": 20
    }
   ],
   "source": [
    "a[0][0].shape"
   ]
  },
  {
   "cell_type": "code",
   "execution_count": null,
   "metadata": {},
   "outputs": [],
   "source": []
  }
 ],
 "metadata": {
  "kernelspec": {
   "name": "python379jvsc74a57bd0f50bd5474255f82aa829301912ce59e29110123be660cf8d7583f66a20371684",
   "display_name": "Python 3.7.9 64-bit ('base': conda)"
  },
  "language_info": {
   "codemirror_mode": {
    "name": "ipython",
    "version": 3
   },
   "file_extension": ".py",
   "mimetype": "text/x-python",
   "name": "python",
   "nbconvert_exporter": "python",
   "pygments_lexer": "ipython3",
   "version": "3.7.9"
  }
 },
 "nbformat": 4,
 "nbformat_minor": 2
}