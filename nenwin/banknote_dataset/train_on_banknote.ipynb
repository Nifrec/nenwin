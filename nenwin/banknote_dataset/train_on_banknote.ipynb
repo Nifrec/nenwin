{
 "metadata": {
  "language_info": {
   "codemirror_mode": {
    "name": "ipython",
    "version": 3
   },
   "file_extension": ".py",
   "mimetype": "text/x-python",
   "name": "python",
   "nbconvert_exporter": "python",
   "pygments_lexer": "ipython3",
   "version": "3.7.9"
  },
  "orig_nbformat": 2,
  "kernelspec": {
   "name": "python379jvsc74a57bd0f50bd5474255f82aa829301912ce59e29110123be660cf8d7583f66a20371684",
   "display_name": "Python 3.7.9 64-bit ('base': conda)"
  }
 },
 "nbformat": 4,
 "nbformat_minor": 2,
 "cells": [
  {
   "source": [
    "Nenwin-project (NEural Networks WIthout Neurons) for\n",
    "the AI Honors Academy track 2020-2021 at the TU Eindhoven.\n",
    "\n",
    "Authors: Lulof Pirée\n",
    "\n",
    "May 2021\n",
    "\n",
    "Copyright (C) 2021 Lulof Pirée\n",
    "\n",
    "This program is free software: you can redistribute it and/or modify\n",
    "it under the terms of the GNU Affero General Public License as published\n",
    "by the Free Software Foundation, either version 3 of the License, or\n",
    "(at your option) any later version.\n",
    "\n",
    "This program is distributed in the hope that it will be useful,\n",
    "but WITHOUT ANY WARRANTY; without even the implied warranty of\n",
    "MERCHANTABILITY or FITNESS FOR A PARTICULAR PURPOSE.  See the\n",
    "GNU Affero General Public License for more details.\n",
    "\n",
    "You should have received a copy of the GNU Affero General Public License\n",
    "along with this program.  If not, see <https://www.gnu.org/licenses/>."
   ],
   "cell_type": "markdown",
   "metadata": {}
  },
  {
   "source": [
    "# Banknote dataset with Nenwin\n",
    "\n",
    "Dataset source: https://code.datasciencedojo.com/datasciencedojo/datasets/blob/master/Banknote%20Authentication/data_banknote_authentication.txt\n",
    "See also:\n",
    "* https://jamesmccaffrey.wordpress.com/2020/08/18/in-the-banknote-authentication-dataset-class-0-is-genuine-authentic/\n",
    "* https://www.researchgate.net/publication/266673146_Banknote_Authentication\n",
    "\n",
    "This dataset has:\n",
    "* 1372 samples, of two classes:\n",
    "    * class 0 (Genuine): 762 samples \n",
    "    * class 1 (Forgery): 610 samples\n",
    "\n",
    "Features:\n",
    "* 0: variance (float)\n",
    "* 1: skewness (float)\n",
    "* 2: curtosis (float)\n",
    "* 3: entropy  (float)\n",
    "\n",
    "\n",
    "**Goal**: classify which banknotes are real and which ones are forgeries,\n",
    "\n",
    "based on the four features (that are derived from an image, using the 'Wavelet Transform\")."
   ],
   "cell_type": "markdown",
   "metadata": {}
  },
  {
   "cell_type": "code",
   "execution_count": 1,
   "metadata": {},
   "outputs": [],
   "source": [
    "import torch\n",
    "import torch.nn\n",
    "import numpy as np\n",
    "import matplotlib.pyplot as plt\n",
    "from typing import List, Tuple, Iterable\n",
    "from numbers import Number\n",
    "\n",
    "from nenwin.constants import BANKNOTE_CHECKPOINT_DIR\n",
    "from nenwin.all_particles import Marble, Node, MarbleEmitterNode, MarbleEaterNode\n",
    "from nenwin.model import NenwinModel\n",
    "from nenwin.input_placer import InputPlacer\n",
    "from nenwin.grid_input_placer import VelInputPlacer\n",
    "from nenwin.attraction_functions.attraction_functions import NewtonianGravity, AttractionFunction\n",
    "from nenwin.backprop.filename_gen import FilenameGenerator\n",
    "from nenwin.backprop.trainer import NenwinTrainer\n",
    "from nenwin.backprop.training_stats import TrainingStats\n",
    "from nenwin.backprop.loss_function import NenwinLossFunction\n",
    "from nenwin.banknote_dataset.load_dataset import load_banknote_dataset, BanknoteDataset\n",
    "from nenwin.creation_functions import gen_nodes, gen_eater_nodes"
   ]
  },
  {
   "source": [
    "## Architecture generation"
   ],
   "cell_type": "markdown",
   "metadata": {}
  },
  {
   "cell_type": "code",
   "execution_count": 2,
   "metadata": {},
   "outputs": [],
   "source": [
    "def gen_architecture() -> Tuple[NenwinModel, VelInputPlacer, Tuple[Node]]:\n",
    "    \"\"\"\n",
    "    Generate the following architecture:\n",
    "    * The input region is at (-2.5, -1) and has size (5, 2) \n",
    "        (So it has vertices {(-2.5, -1), (-2.5, 1), (2.5, -1), (2.5, 1)})\n",
    "    * There are two MarbleEaterNodes, at (-10, 0) and (10, 0)\n",
    "    * There are four normal Nodes, at (0, -5), (-5, 0), (5, 0) and (0, 5).\n",
    "\n",
    "    Returns:\n",
    "    * Model holding the architecture descibed above\n",
    "    * VelInputPlacer with the input region as described above.\n",
    "    * Tuple of the two MarbleEaterNodes\n",
    "    \"\"\"\n",
    "\n",
    "    eater_positions = [(-10, 0), (10, 0)]\n",
    "    node_positions = [(0, -5), (-5, 0), (5, 0), (0, 5)]\n",
    "    input_region_pos = np.array((-2.5, -1))\n",
    "    input_region_size = np.array((5, 2))\n",
    "    mass = 1\n",
    "    radius = 0.5\n",
    "\n",
    "    attraction_function = NewtonianGravity()\n",
    "\n",
    "    nodes = gen_nodes(attraction_function, mass, node_positions)\n",
    "    eater_nodes = gen_eater_nodes(attraction_function, mass, \n",
    "                                  radius, eater_positions)\n",
    "    model = NenwinModel(nodes+eater_nodes)\n",
    "    input_placer = VelInputPlacer(input_region_pos, input_region_size)\n",
    "\n",
    "    return model, input_placer, eater_nodes"
   ]
  },
  {
   "cell_type": "code",
   "execution_count": 3,
   "metadata": {},
   "outputs": [],
   "source": [
    "MODEL, INPUT_PLACER, EATERS = gen_architecture()"
   ]
  },
  {
   "source": [
    "## Training setup"
   ],
   "cell_type": "markdown",
   "metadata": {}
  },
  {
   "cell_type": "code",
   "execution_count": 4,
   "metadata": {},
   "outputs": [
    {
     "output_type": "execute_result",
     "data": {
      "text/plain": [
       "array([[-6.5773 ,  6.8017 ,  0.85483, -7.5344 ]])"
      ]
     },
     "metadata": {},
     "execution_count": 4
    }
   ],
   "source": [
    "LOSS_POS_WEIGHT = 1\n",
    "LOSS_VEL_WEIGHT = 1\n",
    "DATASET = load_banknote_dataset()\n",
    "train_set = tuple(DATASET.iter_train())\n",
    "train_set[0][0]"
   ]
  },
  {
   "cell_type": "code",
   "execution_count": 5,
   "metadata": {},
   "outputs": [],
   "source": [
    "def create_trainer(model: NenwinModel,\n",
    "                   input_placer: InputPlacer,\n",
    "                   output_nodes: Iterable[MarbleEaterNode],\n",
    "                   dataset: BanknoteDataset,\n",
    "                   loss_pos_weight: float,\n",
    "                   loss_vel_weight: float) -> NenwinTrainer:\n",
    "\n",
    "    loss_funct = NenwinLossFunction(output_nodes, model, loss_vel_weight,\n",
    "                                    loss_pos_weight)\n",
    "    optim = torch.optim.Adam(model.parameters())\n",
    "    filename_gen = FilenameGenerator(BANKNOTE_CHECKPOINT_DIR, \"BANKNOTE_\", \".txt\")\n",
    "    trainer = NenwinTrainer(model, loss_funct, optim, filename_gen,\n",
    "                            input_placer, dataset)\n",
    "    return trainer\n",
    "\n",
    "TRAINER = create_trainer(MODEL, \n",
    "                         INPUT_PLACER, \n",
    "                         EATERS,\n",
    "                         DATASET,\n",
    "                         loss_pos_weight= LOSS_POS_WEIGHT,\n",
    "                         loss_vel_weight = LOSS_VEL_WEIGHT)"
   ]
  },
  {
   "cell_type": "code",
   "execution_count": 6,
   "metadata": {
    "tags": []
   },
   "outputs": [
    {
     "output_type": "stream",
     "name": "stdout",
     "text": [
      "Last epoch 0 finished: saving model...\nModel saved as /home/nifrec/Vault/Documents/bachelor_3/honors/nenwin/nenwin/banknote_dataset/checkpoints/BANKNOTE_Thu_May_13_16-50-52_2021.txt\n"
     ]
    }
   ],
   "source": [
    "num_epochs = 1 #20\n",
    "step_size = 0.1\n",
    "num_steps_till_read_output = 1 #int(2 / step_size)\n",
    "do_validate = True\n",
    "checkpoint_interval = 100\n",
    "\n",
    "TRAINER.run_training(num_epochs,\n",
    "                    step_size,\n",
    "                    num_steps_till_read_output,\n",
    "                    do_validate,\n",
    "                    checkpoint_interval)"
   ]
  },
  {
   "cell_type": "code",
   "execution_count": 7,
   "metadata": {},
   "outputs": [
    {
     "output_type": "execute_result",
     "data": {
      "text/plain": [
       "<nenwin.backprop.training_stats.TrainingStats at 0x7f9de8e7f150>"
      ]
     },
     "metadata": {},
     "execution_count": 7
    }
   ],
   "source": [
    "stats = TRAINER.training_stats\n",
    "stats"
   ]
  },
  {
   "cell_type": "code",
   "execution_count": 8,
   "metadata": {},
   "outputs": [
    {
     "output_type": "execute_result",
     "data": {
      "text/plain": [
       "(72712.35063934326,)"
      ]
     },
     "metadata": {},
     "execution_count": 8
    }
   ],
   "source": [
    "stats.train_losses"
   ]
  },
  {
   "cell_type": "code",
   "execution_count": 9,
   "metadata": {},
   "outputs": [
    {
     "output_type": "execute_result",
     "data": {
      "text/plain": [
       "(0.0,)"
      ]
     },
     "metadata": {},
     "execution_count": 9
    }
   ],
   "source": [
    "stats.validation_accuracies"
   ]
  },
  {
   "cell_type": "code",
   "execution_count": 10,
   "metadata": {},
   "outputs": [
    {
     "output_type": "execute_result",
     "data": {
      "text/plain": [
       "{MarbleEaterNode(tensor([-9.2527, -0.4918]),tensor([ 0.7474, -0.4918]),tensor([ 0.7474, -0.4918]),1.1331239938735962,NewtonianGravity(),1.0,1.0,1.0,0.0,0.5),\n",
       " MarbleEaterNode(tensor([9.3660, 0.5246]),tensor([-0.6349,  0.5261]),tensor([-0.6349,  0.5261]),0.8645471930503845,NewtonianGravity(),1.0,1.0,0.8645471930503845,0.0,0.5),\n",
       " Node(tensor([ 5.1200, -0.2177]),tensor([0., 0.]),tensor([0., 0.]),0.8738136887550354,NewtonianGravity(),1.0,1.0,0.8738136887550354,0.0),\n",
       " Node(tensor([-0.0860, -4.8476]),tensor([0., 0.]),tensor([0., 0.]),1.1403918266296387,NewtonianGravity(),1.0,1.0,1.0,0.0),\n",
       " Node(tensor([-0.1658,  5.0403]),tensor([0., 0.]),tensor([0., 0.]),0.9326843619346619,NewtonianGravity(),1.0,1.0,0.9326843619346619,0.0),\n",
       " Node(tensor([-4.8763,  0.0294]),tensor([0., 0.]),tensor([0., 0.]),1.1247845888137817,NewtonianGravity(),1.0,1.0,1.0,0.0)}"
      ]
     },
     "metadata": {},
     "execution_count": 10
    }
   ],
   "source": [
    "MODEL.nodes"
   ]
  },
  {
   "cell_type": "code",
   "execution_count": 14,
   "metadata": {},
   "outputs": [],
   "source": [
    "filename = \"/home/nifrec/Vault/Documents/bachelor_3/honors/nenwin/nenwin/banknote_dataset/checkpoints/BANKNOTE_Thu_May_13_16-50-52_2021.txt\"\n",
    "import torch.tensor as tensor\n",
    "from nenwin.attraction_functions.attraction_functions import ThresholdGravity\n",
    "with open(filename, \"r\") as file:\n",
    "    model = eval(file.readline())"
   ]
  },
  {
   "cell_type": "code",
   "execution_count": 15,
   "metadata": {},
   "outputs": [
    {
     "output_type": "stream",
     "name": "stdout",
     "text": [
      "NenwinModel({Node(tensor([ 5.1200, -0.2177]),tensor([0., 0.]),tensor([0., 0.]),0.8738136887550354,NewtonianGravity(),1.0,1.0,0.8738136887550354,0.0), Node(tensor([-4.8763,  0.0294]),tensor([0., 0.]),tensor([0., 0.]),1.1247845888137817,NewtonianGravity(),1.0,1.0,1.0,0.0), MarbleEaterNode(tensor([9.3660, 0.5246]),tensor([-0.6349,  0.5261]),tensor([-0.6349,  0.5261]),0.8645471930503845,NewtonianGravity(),1.0,1.0,0.8645471930503845,0.0,0.5), MarbleEaterNode(tensor([-9.2527, -0.4918]),tensor([ 0.7474, -0.4918]),tensor([ 0.7474, -0.4918]),1.1331239938735962,NewtonianGravity(),1.0,1.0,1.0,0.0,0.5), Node(tensor([-0.1658,  5.0403]),tensor([0., 0.]),tensor([0., 0.]),0.9326843619346619,NewtonianGravity(),1.0,1.0,0.9326843619346619,0.0), Node(tensor([-0.0860, -4.8476]),tensor([0., 0.]),tensor([0., 0.]),1.1403918266296387,NewtonianGravity(),1.0,1.0,1.0,0.0)},{Marble(tensor([ 0.0000, -0.7500]),tensor([-3.8894, -3.8894]),tensor([0., 0.]),1.0,ThresholdGravity(100.0),-3.8894,1.0,0.0,0.0,1.0), Marble(tensor([0.0000, 0.2500]),tensor([9.8208, 9.8208]),tensor([0., 0.]),1.0,ThresholdGravity(100.0),9.8208,1.0,0.0,0.0,1.0), Marble(tensor([0.0000, 0.7500]),tensor([0.4750, 0.4750]),tensor([0., 0.]),1.0,ThresholdGravity(100.0),0.47498,1.0,0.0,0.0,1.0), Marble(tensor([ 0.0000, -0.2500]),tensor([-7.8322, -7.8322]),tensor([0., 0.]),1.0,ThresholdGravity(100.0),-7.8322,1.0,0.0,0.0,1.0)})\n"
     ]
    }
   ],
   "source": [
    "print(model)"
   ]
  },
  {
   "cell_type": "code",
   "execution_count": null,
   "metadata": {},
   "outputs": [],
   "source": []
  }
 ]
}