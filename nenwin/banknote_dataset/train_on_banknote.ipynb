{
 "metadata": {
  "language_info": {
   "codemirror_mode": {
    "name": "ipython",
    "version": 3
   },
   "file_extension": ".py",
   "mimetype": "text/x-python",
   "name": "python",
   "nbconvert_exporter": "python",
   "pygments_lexer": "ipython3",
   "version": "3.7.9"
  },
  "orig_nbformat": 2,
  "kernelspec": {
   "name": "python379jvsc74a57bd0f50bd5474255f82aa829301912ce59e29110123be660cf8d7583f66a20371684",
   "display_name": "Python 3.7.9 64-bit ('base': conda)"
  }
 },
 "nbformat": 4,
 "nbformat_minor": 2,
 "cells": [
  {
   "source": [
    "Nenwin-project (NEural Networks WIthout Neurons) for\n",
    "the AI Honors Academy track 2020-2021 at the TU Eindhoven.\n",
    "\n",
    "Authors: Lulof Pirée\n",
    "\n",
    "May 2021\n",
    "\n",
    "Copyright (C) 2021 Lulof Pirée\n",
    "\n",
    "This program is free software: you can redistribute it and/or modify\n",
    "it under the terms of the GNU Affero General Public License as published\n",
    "by the Free Software Foundation, either version 3 of the License, or\n",
    "(at your option) any later version.\n",
    "\n",
    "This program is distributed in the hope that it will be useful,\n",
    "but WITHOUT ANY WARRANTY; without even the implied warranty of\n",
    "MERCHANTABILITY or FITNESS FOR A PARTICULAR PURPOSE.  See the\n",
    "GNU Affero General Public License for more details.\n",
    "\n",
    "You should have received a copy of the GNU Affero General Public License\n",
    "along with this program.  If not, see <https://www.gnu.org/licenses/>."
   ],
   "cell_type": "markdown",
   "metadata": {}
  },
  {
   "source": [
    "# Banknote dataset with Nenwin\n",
    "\n",
    "Dataset source: https://code.datasciencedojo.com/datasciencedojo/datasets/blob/master/Banknote%20Authentication/data_banknote_authentication.txt\n",
    "See also:\n",
    "* https://jamesmccaffrey.wordpress.com/2020/08/18/in-the-banknote-authentication-dataset-class-0-is-genuine-authentic/\n",
    "* https://www.researchgate.net/publication/266673146_Banknote_Authentication\n",
    "\n",
    "This dataset has:\n",
    "* 1372 samples, of two classes:\n",
    "    * class 0 (Genuine): 762 samples \n",
    "    * class 1 (Forgery): 610 samples\n",
    "\n",
    "Features:\n",
    "* 0: variance (float)\n",
    "* 1: skewness (float)\n",
    "* 2: curtosis (float)\n",
    "* 3: entropy  (float)\n",
    "\n",
    "\n",
    "**Goal**: classify which banknotes are real and which ones are forgeries,\n",
    "\n",
    "based on the four features (that are derived from an image, using the 'Wavelet Transform\")."
   ],
   "cell_type": "markdown",
   "metadata": {}
  },
  {
   "cell_type": "code",
   "execution_count": 1,
   "metadata": {},
   "outputs": [],
   "source": [
    "import torch\n",
    "import torch.nn\n",
    "import numpy as np\n",
    "import matplotlib.pyplot as plt\n",
    "from typing import List, Tuple, Iterable\n",
    "from numbers import Number\n",
    "\n",
    "from nenwin.constants import BANKNOTE_CHECKPOINT_DIR\n",
    "from nenwin.all_particles import MarbleEaterNode, Marble, Node, MarbleEmitterNode\n",
    "from nenwin.model import NenwinModel\n",
    "from nenwin.input_placer import InputPlacer\n",
    "from nenwin.grid_input_placer import VelInputPlacer\n",
    "from nenwin.attraction_functions.attraction_functions import NewtonianGravity, AttractionFunction\n",
    "from nenwin.backprop.filename_gen import FilenameGenerator\n",
    "from nenwin.backprop.trainer import NenwinTrainer\n",
    "from nenwin.backprop.training_stats import TrainingStats\n",
    "from nenwin.backprop.loss_function import NenwinLossFunction\n",
    "from nenwin.banknote_dataset.load_dataset import load_banknote_dataset\n",
    "from nenwin.auxliary import gen_nodes, gen_eater_nodes"
   ]
  },
  {
   "cell_type": "code",
   "execution_count": 2,
   "metadata": {},
   "outputs": [],
   "source": [
    "def gen_architecture() -> Tuple[NenwinModel, VelInputPlacer, Tuple[Node]]:\n",
    "    \"\"\"\n",
    "    Generate the following architecture:\n",
    "    * The input region is at (-2.5, -1) and has size (5, 2) \n",
    "        (So it has vertices {(-2.5, -1), (-2.5, 1), (2.5, -1), (2.5, 1)})\n",
    "    * There are two MarbleEaterNodes, at (-10, 0) and (10, 0)\n",
    "    * There are four normal Nodes, at (0, -5), (-5, 0), (5, 0) and (0, 5).\n",
    "\n",
    "    Returns:\n",
    "    * Model holding the architecture descibed above\n",
    "    * VelInputPlacer with the input region as described above.\n",
    "    * Tuple of the two MarbleEaterNodes\n",
    "    \"\"\"\n",
    "\n",
    "    eater_positions = [(-10, 0), (10, 0)]\n",
    "    node_positions = [(0, -5), (-5, 0), (5, 0), (0, 5)]\n",
    "    input_region_pos = (-2.5, -1)\n",
    "    input_region_size = (5, 2)\n",
    "    mass = 1\n",
    "    radius = 0.5\n",
    "\n",
    "    attraction_function = NewtonianGravity()\n",
    "\n",
    "    nodes = gen_nodes(attraction_function, mass, node_positions)\n",
    "    eater_nodes = gen_eater_nodes(attraction_function, mass, \n",
    "                                  radius, eater_positions)\n",
    "    model = NenwinModel(nodes+eater_nodes)\n",
    "    input_placer = VelInputPlacer(input_region_pos, input_region_size)\n",
    "\n",
    "    return model, input_placer, eater_nodes"
   ]
  },
  {
   "cell_type": "code",
   "execution_count": 3,
   "metadata": {},
   "outputs": [
    {
     "output_type": "execute_result",
     "data": {
      "text/plain": [
       "(NenwinModel({MarbleEaterNode(tensor([10.,  0.]),tensor([0., 0.]),tensor([0., 0.]),1.0,NewtonianGravity(),1.0,1.0,1.0,0.0,0.5), Node(tensor([-5.,  0.]),tensor([0., 0.]),tensor([0., 0.]),1.0,NewtonianGravity(),1.0,1.0,1.0,0.0), Node(tensor([5., 0.]),tensor([0., 0.]),tensor([0., 0.]),1.0,NewtonianGravity(),1.0,1.0,1.0,0.0), Node(tensor([0., 5.]),tensor([0., 0.]),tensor([0., 0.]),1.0,NewtonianGravity(),1.0,1.0,1.0,0.0), MarbleEaterNode(tensor([-10.,   0.]),tensor([0., 0.]),tensor([0., 0.]),1.0,NewtonianGravity(),1.0,1.0,1.0,0.0,0.5), Node(tensor([ 0., -5.]),tensor([0., 0.]),tensor([0., 0.]),1.0,NewtonianGravity(),1.0,1.0,1.0,0.0)},set()),\n",
       " <nenwin.grid_input_placer.VelInputPlacer at 0x7f37c5e2fa90>,\n",
       " [MarbleEaterNode(tensor([-10.,   0.]),tensor([0., 0.]),tensor([0., 0.]),1.0,NewtonianGravity(),1.0,1.0,1.0,0.0,0.5),\n",
       "  MarbleEaterNode(tensor([10.,  0.]),tensor([0., 0.]),tensor([0., 0.]),1.0,NewtonianGravity(),1.0,1.0,1.0,0.0,0.5)])"
      ]
     },
     "metadata": {},
     "execution_count": 3
    }
   ],
   "source": [
    "gen_architecture()"
   ]
  },
  {
   "cell_type": "code",
   "execution_count": null,
   "metadata": {},
   "outputs": [],
   "source": []
  }
 ]
}