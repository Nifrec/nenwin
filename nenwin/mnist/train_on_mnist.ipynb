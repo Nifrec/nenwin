{
 "metadata": {
  "language_info": {
   "codemirror_mode": {
    "name": "ipython",
    "version": 3
   },
   "file_extension": ".py",
   "mimetype": "text/x-python",
   "name": "python",
   "nbconvert_exporter": "python",
   "pygments_lexer": "ipython3",
   "version": "3.7.9-final"
  },
  "orig_nbformat": 2,
  "kernelspec": {
   "name": "python379jvsc74a57bd0f50bd5474255f82aa829301912ce59e29110123be660cf8d7583f66a20371684",
   "display_name": "Python 3.7.9 64-bit ('anaconda': virtualenv)"
  }
 },
 "nbformat": 4,
 "nbformat_minor": 2,
 "cells": [
  {
   "source": [
    "Nenwin-project (NEural Networks WIthout Neurons) for\n",
    "the AI Honors Academy track 2020-2021 at the TU Eindhoven.\n",
    "\n",
    "Authors: Teun Schilperoort, Lulof Pirée\n",
    "\n",
    "April 2021\n",
    "\n",
    "Copyright (C) 2021 Lulof Pirée, Teun Schilperoort\n",
    "\n",
    "This program is free software: you can redistribute it and/or modify\n",
    "it under the terms of the GNU Affero General Public License as published\n",
    "by the Free Software Foundation, either version 3 of the License, or\n",
    "(at your option) any later version.\n",
    "\n",
    "This program is distributed in the hope that it will be useful,\n",
    "but WITHOUT ANY WARRANTY; without even the implied warranty of\n",
    "MERCHANTABILITY or FITNESS FOR A PARTICULAR PURPOSE.  See the\n",
    "GNU Affero General Public License for more details.\n",
    "\n",
    "You should have received a copy of the GNU Affero General Public License\n",
    "along with this program.  If not, see <https://www.gnu.org/licenses/>."
   ],
   "cell_type": "markdown",
   "metadata": {}
  },
  {
   "source": [
    "# MNIST with Nenwin"
   ],
   "cell_type": "markdown",
   "metadata": {}
  },
  {
   "cell_type": "code",
   "execution_count": 3,
   "metadata": {},
   "outputs": [],
   "source": [
    "import torch\n",
    "import torch.nn\n",
    "\n",
    "from nenwin.all_particles import MarbleEaterNode, Marble, Node, MarbleEmitterNode\n",
    "from nenwin.model import NenwinModel\n",
    "from nenwin.input_placer import InputPlacer\n",
    "from nenwin.backprop.filename_gen import FilenameGenerator\n",
    "from nenwin.backprop.trainer import NenwinTrainer\n",
    "from nenwin.backprop.training_stats import TrainingStats\n",
    "from nenwin.backprop.loss_function import NenwinLossFunction\n",
    "from nenwin.mnist.load_dataset import load_mnist_dataset\n",
    "from nenwin.mnist.train_network import create_trainer"
   ]
  },
  {
   "cell_type": "code",
   "execution_count": 7,
   "metadata": {},
   "outputs": [
    {
     "output_type": "stream",
     "name": "stdout",
     "text": [
      "MNISTDataset\n\ttrain samples: 50000\n\tvali samples: 10000\n\ttest samples: 10000\n\tinput type: <class 'torch.Tensor'>\n\tlabel type: <class 'int'>\n"
     ]
    }
   ],
   "source": [
    "DATASET = load_mnist_dataset()\n",
    "print(DATASET)"
   ]
  },
  {
   "cell_type": "code",
   "execution_count": null,
   "metadata": {},
   "outputs": [],
   "source": [
    "def model_of_backprob_experiment() -> NenwinModel:\n",
    "    zero = torch.tensor([0, 0], dtype=torch.float)\n",
    "    mass = 10\n",
    "\n",
    "    center = torch.tensor([0, 0], dtype=torch.float, requires_grad=False)\n",
    "    node_positions = [torch.tensor(pos, dtype=torch.float) for pos in ((0, 10), (10, 0), (0, -10), (-10, 0))]\n",
    "    marble_pos = torch.tensor([2, 2], dtype=torch.float)\n",
    "\n",
    "    nodes = [Node(pos, zero, zero, mass, NewtonianGravity(), 1, 1, 1, 1) \n",
    "        for pos in node_positions]\n",
    "\n",
    "    marble = Marble(marble_pos, zero, zero, mass, NewtonianGravity(), None)\n",
    "\n",
    "    return NenwinModel(nodes, (marble,))\n",
    "\n",
    "\n",
    "trainer = create_trainer()"
   ]
  }
 ]
}